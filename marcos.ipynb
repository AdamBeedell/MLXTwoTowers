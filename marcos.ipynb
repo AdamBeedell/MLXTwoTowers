{
 "cells": [
  {
   "metadata": {
    "ExecuteTime": {
     "end_time": "2025-06-18T14:11:50.739632Z",
     "start_time": "2025-06-18T14:11:49.545365Z"
    }
   },
   "cell_type": "code",
   "source": [
    "import torch\n",
    "from dataset import DATASET_FILE\n",
    "from datasets import load_dataset"
   ],
   "id": "5ec0e013c1c7eae9",
   "outputs": [],
   "execution_count": 1
  },
  {
   "metadata": {
    "ExecuteTime": {
     "end_time": "2025-06-17T11:15:08.207390Z",
     "start_time": "2025-06-17T11:15:02.694206Z"
    }
   },
   "cell_type": "code",
   "source": [
    "datasets = torch.load(DATASET_FILE, weights_only=False)\n",
    "train_dataset = datasets[\"train_triplets\"]\n",
    "validation_dataset = datasets[\"val_triplets\"]\n",
    "test_dataset = datasets[\"test_triplets\"]"
   ],
   "id": "f10592a75f74125b",
   "outputs": [],
   "execution_count": 17
  },
  {
   "metadata": {
    "ExecuteTime": {
     "end_time": "2025-06-17T11:15:22.320261Z",
     "start_time": "2025-06-17T11:15:22.314056Z"
    }
   },
   "cell_type": "code",
   "source": "train_dataset[:5]",
   "id": "2af246cdaf1ceb2",
   "outputs": [
    {
     "data": {
      "text/plain": [
       "[{'query': tensor([  101,  2054,  2003, 21144,  2050,   102,     0,     0,     0,     0,\n",
       "              0,     0,     0,     0,     0,     0,     0,     0,     0,     0,\n",
       "              0,     0,     0,     0,     0,     0,     0,     0,     0,     0,\n",
       "              0,     0,     0,     0,     0,     0,     0,     0,     0,     0,\n",
       "              0,     0,     0,     0,     0,     0,     0,     0,     0,     0,\n",
       "              0,     0,     0,     0,     0,     0,     0,     0,     0,     0,\n",
       "              0,     0,     0,     0,     0,     0,     0,     0,     0,     0,\n",
       "              0,     0,     0,     0,     0,     0,     0,     0,     0,     0,\n",
       "              0,     0,     0,     0,     0,     0,     0,     0,     0,     0,\n",
       "              0,     0,     0,     0,     0,     0,     0,     0,     0,     0,\n",
       "              0,     0,     0,     0,     0,     0,     0,     0,     0,     0,\n",
       "              0,     0,     0,     0,     0,     0,     0,     0,     0,     0,\n",
       "              0,     0,     0,     0,     0,     0,     0,     0]),\n",
       "  'positive': tensor([  101,  3463,  1011,  2241, 17842, 29656,  1006,  2036,  2124,  2004,\n",
       "          21144,  2050,  1007,  2003,  1037, 28675,  2126,  1997,  3241,  1998,\n",
       "           2635,  2895,  2008,  4279,  2064,  2224,  2000,  5335,  1996,  3268,\n",
       "           1997,  2336,  1010,  3360,  1010,  2945,  1010,  6001,  1998,  1996,\n",
       "           2451,  2004,  1037,  2878,  1012, 21144,  2050,  2003,  2036,  2109,\n",
       "           2011,  4411,  2000,  5335,  1996,  2836,  1997,  2037,  3454,  1012,\n",
       "           4526,  2451,  4254,  2007, 21144,  2050,  1012,  2451,  4254,  7679,\n",
       "           2006,  3785,  1997,  2092,  1011,  2108,  2005,  2336,  1010,  2945,\n",
       "           1998,  1996,  2451,  2004,  1037,  2878,  2008,  1037,  2177,  1997,\n",
       "           4177,  2003,  2551, 13643,  2000,  5335,  1012,  2005,  2742,  1024,\n",
       "           1523,  3901,  2007,  2204,  5841,  1010,  1524,  1523,  2336,  3201,\n",
       "           2005,  2082,  1010,  1524,  2030,  1523,  1037,  3647,  1998,  4550,\n",
       "           5101,  1524,  1012,   102,     0,     0,     0,     0]),\n",
       "  'negative': tensor([  101,  1996,  5110, 24884,  1997,  1037, 14591,  3085, 13787, 17629,\n",
       "           2024, 10889,  3722,  1012,  1996, 17085,  2503,  1996, 21144,  2050,\n",
       "           2003,  2081,  1997,  2070,  2828,  1997,  5012,  7318,  1010,  5373,\n",
       "          26044,  8865,  2030, 27969,  8093,  8462,  1012,  2043,  1037,  2783,\n",
       "           2003,  4162,  2000,  1996, 17085,  1006,  5012,  7318,  1007,  1010,\n",
       "           2009, 18559,  2039,  1998,  1996,  9685, 17085,  2059, 20064, 10057,\n",
       "           1996, 12005, 15549,  2094,  1012,  1015,  1996,  3953,  5438, 21144,\n",
       "           2050,  2003,  1010,  3383,  1010,  1996, 25551,  1997,  2035, 21144,\n",
       "           2050,  4127,  2000,  3857,  1010,  5441,  1010,  1998,  2224,  1012,\n",
       "           1016,  2009,  2003,  3561,  2013,  2917,  1010,  2172,  2066,  3953,\n",
       "          17085,  3154, 20936,  6290,  1012,  1017,  3953,  5438, 21144,  3022,\n",
       "           2064, 16462,  6557,  2612,  1997,  9033, 19341,  2005,  1996, 15536,\n",
       "           3600,  1012,  1018,  1996, 11046,  1010,  2030,   102])},\n",
       " {'query': tensor([  101,  2001,  8923, 11531,  1037,  7672,   102,     0,     0,     0,\n",
       "              0,     0,     0,     0,     0,     0,     0,     0,     0,     0,\n",
       "              0,     0,     0,     0,     0,     0,     0,     0,     0,     0,\n",
       "              0,     0,     0,     0,     0,     0,     0,     0,     0,     0,\n",
       "              0,     0,     0,     0,     0,     0,     0,     0,     0,     0,\n",
       "              0,     0,     0,     0,     0,     0,     0,     0,     0,     0,\n",
       "              0,     0,     0,     0,     0,     0,     0,     0,     0,     0,\n",
       "              0,     0,     0,     0,     0,     0,     0,     0,     0,     0,\n",
       "              0,     0,     0,     0,     0,     0,     0,     0,     0,     0,\n",
       "              0,     0,     0,     0,     0,     0,     0,     0,     0,     0,\n",
       "              0,     0,     0,     0,     0,     0,     0,     0,     0,     0,\n",
       "              0,     0,     0,     0,     0,     0,     0,     0,     0,     0,\n",
       "              0,     0,     0,     0,     0,     0,     0,     0]),\n",
       "  'positive': tensor([  101,  2013, 16948,  1010,  1996,  2489, 12204,  1012,  1037, 11531,\n",
       "           7672,  2003,  1037,  6964,  3537, 14303,  1999,  1996,  2142,  2163,\n",
       "           1010,  2926,  1037,  2317,  2551,  1011,  2465,  2642,  2121,  1010,\n",
       "           2040, 26330,  2013,  2037,  2283,  2000,  2490,  3951,  2343,  8923,\n",
       "          11531,  1999,  2593,  2030,  2119,  1996,  3150,  1998,  3118,  3864,\n",
       "           1012,  2076,  1996,  3150,  2602,  1037,  6918,  2193,  1997,  7206,\n",
       "           1999,  1996,  1057,  1012,  1055,  1012,  1010,  4487, 27572, 24117,\n",
       "           2098,  2007,  1996,  3171,  1005, 28935,  5562,  1005,  1997,  1996,\n",
       "           3955,  1998,  1996,  8798,  1997,  5261,  5708,  1006,  2130,  2062,\n",
       "           2084,  1010,  2176,  2086,  3041,  1010,  4314,  3951,  9659,  4811,\n",
       "           1007,  1010,  3569,  2280,  2662,  3099,  1006,  1998,  2280,  7672,\n",
       "           1007,  8923, 11531,  1012,   102,     0,     0,     0,     0,     0,\n",
       "              0,     0,     0,     0,     0,     0,     0,     0]),\n",
       "  'negative': tensor([  101,  8923, 11531,  2211,  2010,  2576,  2166,  1999,  1996,  3537,\n",
       "           2283,  1010,  2021,  2004,  2002,  2150,  2062,  1998,  2062,  4603,\n",
       "           1010,  2002,  4821,  2904,  2000,  1996,  3951,  2283,  1999,  1996,\n",
       "           2220,  4120,  1012,  2748,  1010,  2002,  7237,  4243,  1999,  3705,\n",
       "           1012,  2002,  2056,  2008,  2002,  2106,  2025,  5532,  1996,  8037,\n",
       "           2021,  2738,  2027, 12768,  2032,  1012,  2748,  1010,  8923, 11531,\n",
       "           2001,  1037,  2266,  1997,  1996,  3537,  2283,  2127,  2002,  1055,\n",
       "           1529,  6965,  2098,  2000,  1996,  3951,  2283,  1999,  3705,  1010,\n",
       "           2012,  1996,  2287,  1997,  4868,  1012,  1022,  2111,  2179,  2023,\n",
       "           6179,  1012,   102,     0,     0,     0,     0,     0,     0,     0,\n",
       "              0,     0,     0,     0,     0,     0,     0,     0,     0,     0,\n",
       "              0,     0,     0,     0,     0,     0,     0,     0,     0,     0,\n",
       "              0,     0,     0,     0,     0,     0,     0,     0])},\n",
       " {'query': tensor([ 101, 2129, 2146, 2079, 2017, 2342, 2005, 3994, 1998, 4193, 2752,  102,\n",
       "             0,    0,    0,    0,    0,    0,    0,    0,    0,    0,    0,    0,\n",
       "             0,    0,    0,    0,    0,    0,    0,    0,    0,    0,    0,    0,\n",
       "             0,    0,    0,    0,    0,    0,    0,    0,    0,    0,    0,    0,\n",
       "             0,    0,    0,    0,    0,    0,    0,    0,    0,    0,    0,    0,\n",
       "             0,    0,    0,    0,    0,    0,    0,    0,    0,    0,    0,    0,\n",
       "             0,    0,    0,    0,    0,    0,    0,    0,    0,    0,    0,    0,\n",
       "             0,    0,    0,    0,    0,    0,    0,    0,    0,    0,    0,    0,\n",
       "             0,    0,    0,    0,    0,    0,    0,    0,    0,    0,    0,    0,\n",
       "             0,    0,    0,    0,    0,    0,    0,    0,    0,    0,    0,    0,\n",
       "             0,    0,    0,    0,    0,    0,    0,    0]),\n",
       "  'positive': tensor([  101,  3994,  2003,  1996,  3007,  2103,  1997,  1996,  2827,  2110,\n",
       "           1997,  2047,  2148,  3575,  1010,  1998,  2660,  1005,  1055,  2922,\n",
       "           2103,  1012,  1037,  2733,  1999,  3994,  2097,  2393,  2017,  2156,\n",
       "           2116,  1997,  1996, 15925,  1997,  3994,  1998,  2049, 20626,  1010,\n",
       "           1998,  3305,  1996,  2103,  1998,  2049,  3226,  1012,  2065,  2017,\n",
       "           1005,  2128,  2039,  2005, 11131,  1996,  2181,  2011,  7997,  1006,\n",
       "           2028,  1997,  1996,  2190,  3971,  2000,  2079,  2061,  2004,  2172,\n",
       "           1997,  2009,  2003,  2380,  3122,  1007,  1010,  2202,  1996,  3345,\n",
       "           2000, 16557,  2225,  2276,  2006,  1996,  2642,  2240,  1006,  2417,\n",
       "           2240,  2006,  1996,  3994,  4499,  4949,  1011,  2055,  2322,  1011,\n",
       "           2423,  2781,  2013,  1996,  2103,  2006,  1037,  3622,  3345,  1007,\n",
       "           1012,   102,     0,     0,     0,     0,     0,     0,     0,     0,\n",
       "              0,     0,     0,     0,     0,     0,     0,     0]),\n",
       "  'negative': tensor([  101,  1996,  3994,  2430,  2449,  2212,  1010,  3994,  7440,  1998,\n",
       "           6058,  9435,  2013,  1996,  2225,  1012,  2167,  3994,  1005,  1055,\n",
       "           3293,  2212,  1012,  1996,  4866,  2181,  3139,  2011,  3923,  3994,\n",
       "           2003,  6246,  4055,  2046,  2062,  2084,  3998,  9435,  2005, 12786,\n",
       "           1998, 10690,  5682,  1010,  1998,  8564,  2004,  4229,  2334,  2231,\n",
       "           2752,  1012,  1996,  3994,  7778,  2407,  1010,  2109,  2005,  2883,\n",
       "           2951,  1010,  2003,  1996, 11982,  4956,  2181,  1998,  4472,  2260,\n",
       "           1010, 13741,  3186,  1006,  1018,  1010,  6273,  2683,  2771, 10701,\n",
       "           1007,  1012,  2023,  2181,  2950,  1996,  2430,  3023,  1998,  2630,\n",
       "           4020,  2004,  2092,  2004,  5041, 25414, 15689,  1997,  2120,  2380,\n",
       "           1998,  2060,  2512,  1011,  3923,  2455,  1012,   102,     0,     0,\n",
       "              0,     0,     0,     0,     0,     0,     0,     0,     0,     0,\n",
       "              0,     0,     0,     0,     0,     0,     0,     0])},\n",
       " {'query': tensor([  101,  3976,  2000, 16500, 14090,  1999,  6457,   102,     0,     0,\n",
       "              0,     0,     0,     0,     0,     0,     0,     0,     0,     0,\n",
       "              0,     0,     0,     0,     0,     0,     0,     0,     0,     0,\n",
       "              0,     0,     0,     0,     0,     0,     0,     0,     0,     0,\n",
       "              0,     0,     0,     0,     0,     0,     0,     0,     0,     0,\n",
       "              0,     0,     0,     0,     0,     0,     0,     0,     0,     0,\n",
       "              0,     0,     0,     0,     0,     0,     0,     0,     0,     0,\n",
       "              0,     0,     0,     0,     0,     0,     0,     0,     0,     0,\n",
       "              0,     0,     0,     0,     0,     0,     0,     0,     0,     0,\n",
       "              0,     0,     0,     0,     0,     0,     0,     0,     0,     0,\n",
       "              0,     0,     0,     0,     0,     0,     0,     0,     0,     0,\n",
       "              0,     0,     0,     0,     0,     0,     0,     0,     0,     0,\n",
       "              0,     0,     0,     0,     0,     0,     0,     0]),\n",
       "  'positive': tensor([  101,  1015, 16500, 14692, 14090,  2723,  2000,  2674,  6457,  1011,\n",
       "           2779,  7597,  2005,  8272,  2024,  2090,  1002,  2340,  2000,  1002,\n",
       "           2570,  2566,  2675,  3329,  1025,  1016,  1037,  2422,  1013,  5470,\n",
       "           5257,  1011, 20185,  2012,  1002,  8380,  1998,  2028,  3178,  1997,\n",
       "           8272,  1025,  1017, 16021,  9869,  1998,  2128,  1011,  3926, 21098,\n",
       "           1998,  3681,  1011, 11917, 15621,  2813, 25710,  2007,  1054,  1011,\n",
       "           2382,  3643,  2097,  3465,  1002,  1016,  1012,  2423,  2566,  2675,\n",
       "           3329,  1012,   102,     0,     0,     0,     0,     0,     0,     0,\n",
       "              0,     0,     0,     0,     0,     0,     0,     0,     0,     0,\n",
       "              0,     0,     0,     0,     0,     0,     0,     0,     0,     0,\n",
       "              0,     0,     0,     0,     0,     0,     0,     0,     0,     0,\n",
       "              0,     0,     0,     0,     0,     0,     0,     0,     0,     0,\n",
       "              0,     0,     0,     0,     0,     0,     0,     0]),\n",
       "  'negative': tensor([  101,  2256,  2489, 10250, 19879,  4263,  3594,  3522,  1010,  9480,\n",
       "           2951,  2000, 10197,  5366,  2005,  2115,  5723,  2723, 14090,  8272,\n",
       "           2622,  1012,  2005,  1037,  3937,  6036,  2675,  2519,  2622,  1999,\n",
       "          14101,  3642,  4700, 22610,  2549,  1010,  1996,  6847, 10665,  3465,\n",
       "           2000, 16500,  5723,  2723, 14090,  8483,  2090,  1002,  1023,  1012,\n",
       "           5187,  1011,  1002,  2410,  1012,  3770,  2566,  2675,  3329,  1008,\n",
       "           1012,   102,     0,     0,     0,     0,     0,     0,     0,     0,\n",
       "              0,     0,     0,     0,     0,     0,     0,     0,     0,     0,\n",
       "              0,     0,     0,     0,     0,     0,     0,     0,     0,     0,\n",
       "              0,     0,     0,     0,     0,     0,     0,     0,     0,     0,\n",
       "              0,     0,     0,     0,     0,     0,     0,     0,     0,     0,\n",
       "              0,     0,     0,     0,     0,     0,     0,     0,     0,     0,\n",
       "              0,     0,     0,     0,     0,     0,     0,     0])},\n",
       " {'query': tensor([ 101, 2339, 7584, 5159, 1999, 2303,  102,    0,    0,    0,    0,    0,\n",
       "             0,    0,    0,    0,    0,    0,    0,    0,    0,    0,    0,    0,\n",
       "             0,    0,    0,    0,    0,    0,    0,    0,    0,    0,    0,    0,\n",
       "             0,    0,    0,    0,    0,    0,    0,    0,    0,    0,    0,    0,\n",
       "             0,    0,    0,    0,    0,    0,    0,    0,    0,    0,    0,    0,\n",
       "             0,    0,    0,    0,    0,    0,    0,    0,    0,    0,    0,    0,\n",
       "             0,    0,    0,    0,    0,    0,    0,    0,    0,    0,    0,    0,\n",
       "             0,    0,    0,    0,    0,    0,    0,    0,    0,    0,    0,    0,\n",
       "             0,    0,    0,    0,    0,    0,    0,    0,    0,    0,    0,    0,\n",
       "             0,    0,    0,    0,    0,    0,    0,    0,    0,    0,    0,    0,\n",
       "             0,    0,    0,    0,    0,    0,    0,    0]),\n",
       "  'positive': tensor([  101,  7584,  8761,  2003,  1037,  2828,  1997,  2061, 18900, 11253,\n",
       "           2953,  2213,  8761,  2073,  3558,  8030,  2030,  5751,  2024,  2556,\n",
       "           2008,  3685,  2022,  4541,  2011,  1037,  2966,  4650,  1012,  2200,\n",
       "          14780,  1010,  4406,  2755, 25090,  3560, 10840,  1998, 16007, 11392,\n",
       "           2075,  1010,  1996,  8030,  1997,  2061, 18900, 11253,  2953,  2213,\n",
       "          10840,  2024,  2025, 21249,  2030,  2104,  9715,  2491,  1997,  1996,\n",
       "           5776,  1012,   102,     0,     0,     0,     0,     0,     0,     0,\n",
       "              0,     0,     0,     0,     0,     0,     0,     0,     0,     0,\n",
       "              0,     0,     0,     0,     0,     0,     0,     0,     0,     0,\n",
       "              0,     0,     0,     0,     0,     0,     0,     0,     0,     0,\n",
       "              0,     0,     0,     0,     0,     0,     0,     0,     0,     0,\n",
       "              0,     0,     0,     0,     0,     0,     0,     0,     0,     0,\n",
       "              0,     0,     0,     0,     0,     0,     0,     0]),\n",
       "  'negative': tensor([  101,  7584,  8761,  8030,  2089,  3711,  3402,  2044,  1037,  6911,\n",
       "           3993,  2724,  2030, 12603,  1010,  3251,  3558,  2030,  8317,  1012,\n",
       "           5751,  1998,  8030,  2008,  7461,  2929,  3853,  2089,  2421,  1024,\n",
       "           1015, 11251,  2030, 26287,  1012,  1016, 19470,  2929,  1010,  2107,\n",
       "           2004, 27734,  2015,  2030,  7669,  3788,  1012,  1017,  3279,  1997,\n",
       "           5703,  1012,   102,     0,     0,     0,     0,     0,     0,     0,\n",
       "              0,     0,     0,     0,     0,     0,     0,     0,     0,     0,\n",
       "              0,     0,     0,     0,     0,     0,     0,     0,     0,     0,\n",
       "              0,     0,     0,     0,     0,     0,     0,     0,     0,     0,\n",
       "              0,     0,     0,     0,     0,     0,     0,     0,     0,     0,\n",
       "              0,     0,     0,     0,     0,     0,     0,     0,     0,     0,\n",
       "              0,     0,     0,     0,     0,     0,     0,     0,     0,     0,\n",
       "              0,     0,     0,     0,     0,     0,     0,     0])}]"
      ]
     },
     "execution_count": 18,
     "metadata": {},
     "output_type": "execute_result"
    }
   ],
   "execution_count": 18
  },
  {
   "metadata": {
    "ExecuteTime": {
     "end_time": "2025-06-17T11:20:56.489813Z",
     "start_time": "2025-06-17T11:20:56.482514Z"
    }
   },
   "cell_type": "code",
   "source": [
    "import redis\n",
    "import numpy as np\n",
    "\n",
    "r = redis.Redis(host=\"localhost\", port=6379, db=0)\n",
    "raw = r.hget(\"doc:train_57095_6\", \"embedding\")\n",
    "vec = np.frombuffer(raw, dtype=np.float32)\n",
    "print(\"Doc embedding norm:\", np.linalg.norm(vec))"
   ],
   "id": "87a7ef871ef87bbb",
   "outputs": [
    {
     "name": "stdout",
     "output_type": "stream",
     "text": [
      "Doc embedding norm: 1.0\n"
     ]
    }
   ],
   "execution_count": 21
  },
  {
   "metadata": {
    "ExecuteTime": {
     "end_time": "2025-06-18T14:12:12.258915Z",
     "start_time": "2025-06-18T14:12:08.200447Z"
    }
   },
   "cell_type": "code",
   "source": "ms_marco_data = load_dataset(\"ms_marco\", \"v1.1\")",
   "id": "822dc84fa2961ed7",
   "outputs": [],
   "execution_count": 2
  },
  {
   "metadata": {
    "ExecuteTime": {
     "end_time": "2025-06-18T14:12:19.948851Z",
     "start_time": "2025-06-18T14:12:19.943953Z"
    }
   },
   "cell_type": "code",
   "source": "ms_marco_data[\"test\"][0]",
   "id": "3871b4cf3282880e",
   "outputs": [
    {
     "data": {
      "text/plain": [
       "{'answers': ['Yes'],\n",
       " 'passages': {'is_selected': [0, 0, 1, 0, 0, 0, 0],\n",
       "  'passage_text': ['We have been feeding our back yard squirrels for the fall and winter and we noticed that a few of them have missing fur. One has a patch missing down his back and under both arms. Also another has some missing on his whole chest. They are all eating and seem to have a good appetite.',\n",
       "   'Critters cannot stand the smell of human hair, so sprinkling a barrier of hair clippings around your garden, or lightly working it into the soil when you plant bulbs, apparently does have some merit. The whole thing kind of makes me laugh. It never occurred to me that we are the ones that stink.',\n",
       "   \"Spread some human hair around your vegetable and flower gardens. This will scare the squirrels away because humans are predators of squirrels. It is better if the hair hasn't been washed so the squirrels will easily pick up the human scent.\",\n",
       "   '1 You can sprinkle blood meal around your garden as well. 2  Don’t trap and relocate squirrels. 3  This is a losing battle since the population of squirrels is extremely high. 4  Also, if the animal is a female there is a high likelihood that you will remove her from babies that depend on her for survival.',\n",
       "   'Hair loss in squirrels can be caused by mange or fungal disease. Mange is a disease caused by microscopic mites that burrow under the skin. The squirrel mange mite has been reported in both fox and gray squirrels. There have been no reports of this type of mange being transmitted to humans or domestic pets.',\n",
       "   '1 You can also scatter dog or human hair around your garden. 2  One readers shares, “I used to have a problem with squirrels digging up my bulbs. 3  Now, once in the spring and once in the fall, I ask my hairdresser to save a big bag of hair for me. 4  I lightly dig this into the soil.',\n",
       "   'Rabbit repellent. Human hair will keep rabbits out of your garden!! Collect hair from your brushes and spread it around your garden! (via Pioneer Thinking). Natural mulch. When woven into a mat, it retains moisture, it deters weeds. In some instances, it can actually reduce soil erosion. (via NPR). Plant fertilizer.'],\n",
       "  'url': ['http://web.extension.illinois.edu/askextension/thisQuestion.cfm?ThreadID=18526&catID=213&AskSiteID=90',\n",
       "   'http://www.onehundreddollarsamonth.com/has-anyone-tried-using-hair-to-keep-squirrels-and-deer-out-of-your-garden/',\n",
       "   'http://www.gardenguides.com/106838-rid-ground-squirrels-tomato-plants-flowers.html',\n",
       "   'http://www.almanac.com/content/squirrels',\n",
       "   'http://web.extension.illinois.edu/askextension/thisQuestion.cfm?ThreadID=15895&catID=213&AskSiteID=90',\n",
       "   'http://www.almanac.com/content/squirrels',\n",
       "   'http://www.mnn.com/your-home/organic-farming-gardening/blogs/is-human-hair-good-for-your-garden']},\n",
       " 'query': 'does human hair stop squirrels',\n",
       " 'query_id': 0,\n",
       " 'query_type': 'description',\n",
       " 'wellFormedAnswers': []}"
      ]
     },
     "execution_count": 3,
     "metadata": {},
     "output_type": "execute_result"
    }
   ],
   "execution_count": 3
  },
  {
   "metadata": {},
   "cell_type": "code",
   "outputs": [],
   "execution_count": null,
   "source": "",
   "id": "70ed9ace7ca16e39"
  }
 ],
 "metadata": {
  "kernelspec": {
   "display_name": "Python 3",
   "language": "python",
   "name": "python3"
  },
  "language_info": {
   "codemirror_mode": {
    "name": "ipython",
    "version": 2
   },
   "file_extension": ".py",
   "mimetype": "text/x-python",
   "name": "python",
   "nbconvert_exporter": "python",
   "pygments_lexer": "ipython2",
   "version": "2.7.6"
  }
 },
 "nbformat": 4,
 "nbformat_minor": 5
}
